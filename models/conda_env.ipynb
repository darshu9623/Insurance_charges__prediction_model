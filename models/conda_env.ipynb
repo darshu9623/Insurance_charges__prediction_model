{
 "cells": [
  {
   "cell_type": "code",
   "execution_count": 2,
   "id": "50496d82",
   "metadata": {},
   "outputs": [],
   "source": [
    "# conda install pandas\n",
    "# conda install seaborn -c conda-forge\n",
    "# pip install scipy\n",
    "# pip install statsmodels\n",
    "# pip install -U scikit-learn\n",
    "# pip install matplotlib"
   ]
  },
  {
   "cell_type": "code",
   "execution_count": null,
   "id": "7359803a",
   "metadata": {},
   "outputs": [],
   "source": []
  },
  {
   "cell_type": "code",
   "execution_count": null,
   "id": "447e42cb",
   "metadata": {},
   "outputs": [],
   "source": []
  }
 ],
 "metadata": {
  "kernelspec": {
   "display_name": "Python [conda env:conda_env_Medical] *",
   "language": "python",
   "name": "conda-env-conda_env_Medical-py"
  },
  "language_info": {
   "codemirror_mode": {
    "name": "ipython",
    "version": 3
   },
   "file_extension": ".py",
   "mimetype": "text/x-python",
   "name": "python",
   "nbconvert_exporter": "python",
   "pygments_lexer": "ipython3",
   "version": "3.10.6"
  }
 },
 "nbformat": 4,
 "nbformat_minor": 5
}

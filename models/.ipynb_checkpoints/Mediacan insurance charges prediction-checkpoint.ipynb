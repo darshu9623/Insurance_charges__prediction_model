{
 "cells": [
  {
   "cell_type": "code",
   "execution_count": 1,
   "id": "76d00836",
   "metadata": {},
   "outputs": [],
   "source": [
    "# libraries -->\n",
    "import pandas as pd \n",
    "import numpy as np \n",
    "import matplotlib.pyplot as plt \n",
    "import seaborn as sns\n",
    "from statsmodels.stats.outliers_influence import variance_inflation_factor\n",
    "from sklearn.linear_model import LinearRegression,Ridge,Lasso\n",
    "from sklearn.metrics import mean_absolute_error,mean_squared_error,r2_score\n",
    "from sklearn.model_selection import train_test_split,GridSearchCV,RandomizedSearchCV\n",
    "import warnings \n",
    "warnings.filterwarnings('ignore')"
   ]
  },
  {
   "cell_type": "markdown",
   "id": "774fe48b",
   "metadata": {},
   "source": [
    "# Problem statement "
   ]
  },
  {
   "cell_type": "raw",
   "id": "d6f46b80",
   "metadata": {},
   "source": [
    "To predict medical insurance charges "
   ]
  },
  {
   "cell_type": "markdown",
   "id": "0e4aa217",
   "metadata": {},
   "source": [
    "# Data gathering -->"
   ]
  },
  {
   "cell_type": "code",
   "execution_count": 2,
   "id": "ae3c1633",
   "metadata": {},
   "outputs": [
    {
     "data": {
      "text/html": [
       "<div>\n",
       "<style scoped>\n",
       "    .dataframe tbody tr th:only-of-type {\n",
       "        vertical-align: middle;\n",
       "    }\n",
       "\n",
       "    .dataframe tbody tr th {\n",
       "        vertical-align: top;\n",
       "    }\n",
       "\n",
       "    .dataframe thead th {\n",
       "        text-align: right;\n",
       "    }\n",
       "</style>\n",
       "<table border=\"1\" class=\"dataframe\">\n",
       "  <thead>\n",
       "    <tr style=\"text-align: right;\">\n",
       "      <th></th>\n",
       "      <th>age</th>\n",
       "      <th>sex</th>\n",
       "      <th>bmi</th>\n",
       "      <th>children</th>\n",
       "      <th>smoker</th>\n",
       "      <th>region</th>\n",
       "      <th>charges</th>\n",
       "    </tr>\n",
       "  </thead>\n",
       "  <tbody>\n",
       "    <tr>\n",
       "      <th>0</th>\n",
       "      <td>19</td>\n",
       "      <td>female</td>\n",
       "      <td>27.900</td>\n",
       "      <td>0</td>\n",
       "      <td>yes</td>\n",
       "      <td>southwest</td>\n",
       "      <td>16884.92400</td>\n",
       "    </tr>\n",
       "    <tr>\n",
       "      <th>1</th>\n",
       "      <td>18</td>\n",
       "      <td>male</td>\n",
       "      <td>33.770</td>\n",
       "      <td>1</td>\n",
       "      <td>no</td>\n",
       "      <td>southeast</td>\n",
       "      <td>1725.55230</td>\n",
       "    </tr>\n",
       "    <tr>\n",
       "      <th>2</th>\n",
       "      <td>28</td>\n",
       "      <td>male</td>\n",
       "      <td>33.000</td>\n",
       "      <td>3</td>\n",
       "      <td>no</td>\n",
       "      <td>southeast</td>\n",
       "      <td>4449.46200</td>\n",
       "    </tr>\n",
       "    <tr>\n",
       "      <th>3</th>\n",
       "      <td>33</td>\n",
       "      <td>male</td>\n",
       "      <td>22.705</td>\n",
       "      <td>0</td>\n",
       "      <td>no</td>\n",
       "      <td>northwest</td>\n",
       "      <td>21984.47061</td>\n",
       "    </tr>\n",
       "    <tr>\n",
       "      <th>4</th>\n",
       "      <td>32</td>\n",
       "      <td>male</td>\n",
       "      <td>28.880</td>\n",
       "      <td>0</td>\n",
       "      <td>no</td>\n",
       "      <td>northwest</td>\n",
       "      <td>3866.85520</td>\n",
       "    </tr>\n",
       "    <tr>\n",
       "      <th>...</th>\n",
       "      <td>...</td>\n",
       "      <td>...</td>\n",
       "      <td>...</td>\n",
       "      <td>...</td>\n",
       "      <td>...</td>\n",
       "      <td>...</td>\n",
       "      <td>...</td>\n",
       "    </tr>\n",
       "    <tr>\n",
       "      <th>1333</th>\n",
       "      <td>50</td>\n",
       "      <td>male</td>\n",
       "      <td>30.970</td>\n",
       "      <td>3</td>\n",
       "      <td>no</td>\n",
       "      <td>northwest</td>\n",
       "      <td>10600.54830</td>\n",
       "    </tr>\n",
       "    <tr>\n",
       "      <th>1334</th>\n",
       "      <td>18</td>\n",
       "      <td>female</td>\n",
       "      <td>31.920</td>\n",
       "      <td>0</td>\n",
       "      <td>no</td>\n",
       "      <td>northeast</td>\n",
       "      <td>2205.98080</td>\n",
       "    </tr>\n",
       "    <tr>\n",
       "      <th>1335</th>\n",
       "      <td>18</td>\n",
       "      <td>female</td>\n",
       "      <td>36.850</td>\n",
       "      <td>0</td>\n",
       "      <td>no</td>\n",
       "      <td>southeast</td>\n",
       "      <td>1629.83350</td>\n",
       "    </tr>\n",
       "    <tr>\n",
       "      <th>1336</th>\n",
       "      <td>21</td>\n",
       "      <td>female</td>\n",
       "      <td>25.800</td>\n",
       "      <td>0</td>\n",
       "      <td>no</td>\n",
       "      <td>southwest</td>\n",
       "      <td>2007.94500</td>\n",
       "    </tr>\n",
       "    <tr>\n",
       "      <th>1337</th>\n",
       "      <td>61</td>\n",
       "      <td>female</td>\n",
       "      <td>29.070</td>\n",
       "      <td>0</td>\n",
       "      <td>yes</td>\n",
       "      <td>northwest</td>\n",
       "      <td>29141.36030</td>\n",
       "    </tr>\n",
       "  </tbody>\n",
       "</table>\n",
       "<p>1338 rows × 7 columns</p>\n",
       "</div>"
      ],
      "text/plain": [
       "      age     sex     bmi  children smoker     region      charges\n",
       "0      19  female  27.900         0    yes  southwest  16884.92400\n",
       "1      18    male  33.770         1     no  southeast   1725.55230\n",
       "2      28    male  33.000         3     no  southeast   4449.46200\n",
       "3      33    male  22.705         0     no  northwest  21984.47061\n",
       "4      32    male  28.880         0     no  northwest   3866.85520\n",
       "...   ...     ...     ...       ...    ...        ...          ...\n",
       "1333   50    male  30.970         3     no  northwest  10600.54830\n",
       "1334   18  female  31.920         0     no  northeast   2205.98080\n",
       "1335   18  female  36.850         0     no  southeast   1629.83350\n",
       "1336   21  female  25.800         0     no  southwest   2007.94500\n",
       "1337   61  female  29.070         0    yes  northwest  29141.36030\n",
       "\n",
       "[1338 rows x 7 columns]"
      ]
     },
     "execution_count": 2,
     "metadata": {},
     "output_type": "execute_result"
    }
   ],
   "source": [
    "df = pd.read_csv(\"medical_insurance.csv\")\n",
    "df"
   ]
  },
  {
   "cell_type": "markdown",
   "id": "8b9018a8",
   "metadata": {},
   "source": [
    "# Exploratory data anyalisis -->\n"
   ]
  },
  {
   "cell_type": "code",
   "execution_count": 3,
   "id": "52c2c13b",
   "metadata": {},
   "outputs": [
    {
     "name": "stdout",
     "output_type": "stream",
     "text": [
      "<class 'pandas.core.frame.DataFrame'>\n",
      "RangeIndex: 1338 entries, 0 to 1337\n",
      "Data columns (total 7 columns):\n",
      " #   Column    Non-Null Count  Dtype  \n",
      "---  ------    --------------  -----  \n",
      " 0   age       1338 non-null   int64  \n",
      " 1   sex       1338 non-null   object \n",
      " 2   bmi       1338 non-null   float64\n",
      " 3   children  1338 non-null   int64  \n",
      " 4   smoker    1338 non-null   object \n",
      " 5   region    1338 non-null   object \n",
      " 6   charges   1338 non-null   float64\n",
      "dtypes: float64(2), int64(2), object(3)\n",
      "memory usage: 73.3+ KB\n"
     ]
    }
   ],
   "source": [
    "df.info()"
   ]
  },
  {
   "cell_type": "code",
   "execution_count": 4,
   "id": "35bdec5c",
   "metadata": {},
   "outputs": [
    {
     "name": "stdout",
     "output_type": "stream",
     "text": [
      "<class 'pandas.core.series.Series'>\n",
      "RangeIndex: 1338 entries, 0 to 1337\n",
      "Series name: age\n",
      "Non-Null Count  Dtype\n",
      "--------------  -----\n",
      "1338 non-null   int64\n",
      "dtypes: int64(1)\n",
      "memory usage: 10.6 KB\n"
     ]
    }
   ],
   "source": [
    "# 1. age\n",
    "df['age'].info()"
   ]
  },
  {
   "cell_type": "code",
   "execution_count": 5,
   "id": "ef18a573",
   "metadata": {},
   "outputs": [
    {
     "data": {
      "text/plain": [
       "array([19, 18, 28, 33, 32, 31, 46, 37, 60, 25, 62, 23, 56, 27, 52, 30, 34,\n",
       "       59, 63, 55, 22, 26, 35, 24, 41, 38, 36, 21, 48, 40, 58, 53, 43, 64,\n",
       "       20, 61, 44, 57, 29, 45, 54, 49, 47, 51, 42, 50, 39], dtype=int64)"
      ]
     },
     "execution_count": 5,
     "metadata": {},
     "output_type": "execute_result"
    }
   ],
   "source": [
    "df['age'].unique()"
   ]
  },
  {
   "cell_type": "code",
   "execution_count": 6,
   "id": "c5abc103",
   "metadata": {},
   "outputs": [
    {
     "data": {
      "text/plain": [
       "<AxesSubplot:xlabel='age'>"
      ]
     },
     "execution_count": 6,
     "metadata": {},
     "output_type": "execute_result"
    },
    {
     "data": {
      "image/png": "[encoded data removed]",
      "text/plain": [
       "<Figure size 432x288 with 1 Axes>"
      ]
     },
     "metadata": {
      "needs_background": "light"
     },
     "output_type": "display_data"
    }
   ],
   "source": [
    "sns.boxplot(df['age'])"
   ]
  },
  {
   "cell_type": "code",
   "execution_count": 7,
   "id": "19ba227f",
   "metadata": {},
   "outputs": [
    {
     "name": "stdout",
     "output_type": "stream",
     "text": [
      "<class 'pandas.core.series.Series'>\n",
      "RangeIndex: 1338 entries, 0 to 1337\n",
      "Series name: sex\n",
      "Non-Null Count  Dtype \n",
      "--------------  ----- \n",
      "1338 non-null   object\n",
      "dtypes: object(1)\n",
      "memory usage: 10.6+ KB\n"
     ]
    }
   ],
   "source": [
    "# 2. sex \n",
    "df['sex'].info()"
   ]
  },
  {
   "cell_type": "code",
   "execution_count": 8,
   "id": "de68f9da",
   "metadata": {},
   "outputs": [
    {
     "data": {
      "text/plain": [
       "array(['female', 'male'], dtype=object)"
      ]
     },
     "execution_count": 8,
     "metadata": {},
     "output_type": "execute_result"
    }
   ],
   "source": [
    "df['sex'].unique()"
   ]
  },
  {
   "cell_type": "code",
   "execution_count": 9,
   "id": "97b434a2",
   "metadata": {},
   "outputs": [],
   "source": [
    "sex_value = {'male':0,'female':1}"
   ]
  },
  {
   "cell_type": "code",
   "execution_count": 10,
   "id": "48f0120b",
   "metadata": {},
   "outputs": [],
   "source": [
    "df['sex'].replace({'male':0,'female':1},inplace=True)"
   ]
  },
  {
   "cell_type": "code",
   "execution_count": 11,
   "id": "ec4aea55",
   "metadata": {},
   "outputs": [
    {
     "name": "stdout",
     "output_type": "stream",
     "text": [
      "<class 'pandas.core.series.Series'>\n",
      "RangeIndex: 1338 entries, 0 to 1337\n",
      "Series name: sex\n",
      "Non-Null Count  Dtype\n",
      "--------------  -----\n",
      "1338 non-null   int64\n",
      "dtypes: int64(1)\n",
      "memory usage: 10.6 KB\n"
     ]
    }
   ],
   "source": [
    "df['sex'].info()"
   ]
  },
  {
   "cell_type": "code",
   "execution_count": 12,
   "id": "038c39b0",
   "metadata": {},
   "outputs": [
    {
     "name": "stdout",
     "output_type": "stream",
     "text": [
      "<class 'pandas.core.series.Series'>\n",
      "RangeIndex: 1338 entries, 0 to 1337\n",
      "Series name: bmi\n",
      "Non-Null Count  Dtype  \n",
      "--------------  -----  \n",
      "1338 non-null   float64\n",
      "dtypes: float64(1)\n",
      "memory usage: 10.6 KB\n"
     ]
    }
   ],
   "source": [
    "# 3.bmi \n",
    "df['bmi'].info()"
   ]
  },
  {
   "cell_type": "code",
   "execution_count": 13,
   "id": "95e1ddc5",
   "metadata": {},
   "outputs": [
    {
     "name": "stdout",
     "output_type": "stream",
     "text": [
      "<class 'pandas.core.series.Series'>\n",
      "RangeIndex: 1338 entries, 0 to 1337\n",
      "Series name: children\n",
      "Non-Null Count  Dtype\n",
      "--------------  -----\n",
      "1338 non-null   int64\n",
      "dtypes: int64(1)\n",
      "memory usage: 10.6 KB\n"
     ]
    }
   ],
   "source": [
    "# 4. children \n",
    "df['children'].info()"
   ]
  },
  {
   "cell_type": "code",
   "execution_count": 14,
   "id": "cc5ecfba",
   "metadata": {},
   "outputs": [
    {
     "name": "stdout",
     "output_type": "stream",
     "text": [
      "<class 'pandas.core.series.Series'>\n",
      "RangeIndex: 1338 entries, 0 to 1337\n",
      "Series name: smoker\n",
      "Non-Null Count  Dtype \n",
      "--------------  ----- \n",
      "1338 non-null   object\n",
      "dtypes: object(1)\n",
      "memory usage: 10.6+ KB\n"
     ]
    }
   ],
   "source": [
    "# 5. smoker\n",
    "df['smoker'].info()"
   ]
  },
  {
   "cell_type": "code",
   "execution_count": 15,
   "id": "447034ce",
   "metadata": {},
   "outputs": [
    {
     "data": {
      "text/plain": [
       "array(['yes', 'no'], dtype=object)"
      ]
     },
     "execution_count": 15,
     "metadata": {},
     "output_type": "execute_result"
    }
   ],
   "source": [
    "df['smoker'].unique()"
   ]
  },
  {
   "cell_type": "code",
   "execution_count": 16,
   "id": "c46469e1",
   "metadata": {},
   "outputs": [],
   "source": [
    "smoker_value = {'yes':0,'no':1}"
   ]
  },
  {
   "cell_type": "code",
   "execution_count": 17,
   "id": "867e2676",
   "metadata": {},
   "outputs": [],
   "source": [
    "df['smoker'].replace(smoker_value,inplace=True)"
   ]
  },
  {
   "cell_type": "code",
   "execution_count": 18,
   "id": "6d47d579",
   "metadata": {},
   "outputs": [
    {
     "name": "stdout",
     "output_type": "stream",
     "text": [
      "<class 'pandas.core.series.Series'>\n",
      "RangeIndex: 1338 entries, 0 to 1337\n",
      "Series name: smoker\n",
      "Non-Null Count  Dtype\n",
      "--------------  -----\n",
      "1338 non-null   int64\n",
      "dtypes: int64(1)\n",
      "memory usage: 10.6 KB\n"
     ]
    }
   ],
   "source": [
    "df['smoker'].info()"
   ]
  },
  {
   "cell_type": "code",
   "execution_count": 19,
   "id": "99f2437d",
   "metadata": {},
   "outputs": [
    {
     "name": "stdout",
     "output_type": "stream",
     "text": [
      "<class 'pandas.core.frame.DataFrame'>\n",
      "RangeIndex: 1338 entries, 0 to 1337\n",
      "Data columns (total 7 columns):\n",
      " #   Column    Non-Null Count  Dtype  \n",
      "---  ------    --------------  -----  \n",
      " 0   age       1338 non-null   int64  \n",
      " 1   sex       1338 non-null   int64  \n",
      " 2   bmi       1338 non-null   float64\n",
      " 3   children  1338 non-null   int64  \n",
      " 4   smoker    1338 non-null   int64  \n",
      " 5   region    1338 non-null   object \n",
      " 6   charges   1338 non-null   float64\n",
      "dtypes: float64(2), int64(4), object(1)\n",
      "memory usage: 73.3+ KB\n"
     ]
    }
   ],
   "source": [
    "df.info()"
   ]
  },
  {
   "cell_type": "code",
   "execution_count": 20,
   "id": "52bd830d",
   "metadata": {},
   "outputs": [
    {
     "name": "stdout",
     "output_type": "stream",
     "text": [
      "<class 'pandas.core.series.Series'>\n",
      "RangeIndex: 1338 entries, 0 to 1337\n",
      "Series name: region\n",
      "Non-Null Count  Dtype \n",
      "--------------  ----- \n",
      "1338 non-null   object\n",
      "dtypes: object(1)\n",
      "memory usage: 10.6+ KB\n"
     ]
    }
   ],
   "source": [
    "df['region'].info()"
   ]
  },
  {
   "cell_type": "code",
   "execution_count": 21,
   "id": "c74dd954",
   "metadata": {},
   "outputs": [
    {
     "data": {
      "text/plain": [
       "array(['southwest', 'southeast', 'northwest', 'northeast'], dtype=object)"
      ]
     },
     "execution_count": 21,
     "metadata": {},
     "output_type": "execute_result"
    }
   ],
   "source": [
    "df['region'].unique()"
   ]
  },
  {
   "cell_type": "code",
   "execution_count": 22,
   "id": "902264b3",
   "metadata": {},
   "outputs": [
    {
     "data": {
      "text/html": [
       "<div>\n",
       "<style scoped>\n",
       "    .dataframe tbody tr th:only-of-type {\n",
       "        vertical-align: middle;\n",
       "    }\n",
       "\n",
       "    .dataframe tbody tr th {\n",
       "        vertical-align: top;\n",
       "    }\n",
       "\n",
       "    .dataframe thead th {\n",
       "        text-align: right;\n",
       "    }\n",
       "</style>\n",
       "<table border=\"1\" class=\"dataframe\">\n",
       "  <thead>\n",
       "    <tr style=\"text-align: right;\">\n",
       "      <th></th>\n",
       "      <th>age</th>\n",
       "      <th>sex</th>\n",
       "      <th>bmi</th>\n",
       "      <th>children</th>\n",
       "      <th>smoker</th>\n",
       "      <th>charges</th>\n",
       "      <th>region_northeast</th>\n",
       "      <th>region_northwest</th>\n",
       "      <th>region_southeast</th>\n",
       "      <th>region_southwest</th>\n",
       "    </tr>\n",
       "  </thead>\n",
       "  <tbody>\n",
       "    <tr>\n",
       "      <th>0</th>\n",
       "      <td>19</td>\n",
       "      <td>1</td>\n",
       "      <td>27.900</td>\n",
       "      <td>0</td>\n",
       "      <td>0</td>\n",
       "      <td>16884.92400</td>\n",
       "      <td>0</td>\n",
       "      <td>0</td>\n",
       "      <td>0</td>\n",
       "      <td>1</td>\n",
       "    </tr>\n",
       "    <tr>\n",
       "      <th>1</th>\n",
       "      <td>18</td>\n",
       "      <td>0</td>\n",
       "      <td>33.770</td>\n",
       "      <td>1</td>\n",
       "      <td>1</td>\n",
       "      <td>1725.55230</td>\n",
       "      <td>0</td>\n",
       "      <td>0</td>\n",
       "      <td>1</td>\n",
       "      <td>0</td>\n",
       "    </tr>\n",
       "    <tr>\n",
       "      <th>2</th>\n",
       "      <td>28</td>\n",
       "      <td>0</td>\n",
       "      <td>33.000</td>\n",
       "      <td>3</td>\n",
       "      <td>1</td>\n",
       "      <td>4449.46200</td>\n",
       "      <td>0</td>\n",
       "      <td>0</td>\n",
       "      <td>1</td>\n",
       "      <td>0</td>\n",
       "    </tr>\n",
       "    <tr>\n",
       "      <th>3</th>\n",
       "      <td>33</td>\n",
       "      <td>0</td>\n",
       "      <td>22.705</td>\n",
       "      <td>0</td>\n",
       "      <td>1</td>\n",
       "      <td>21984.47061</td>\n",
       "      <td>0</td>\n",
       "      <td>1</td>\n",
       "      <td>0</td>\n",
       "      <td>0</td>\n",
       "    </tr>\n",
       "    <tr>\n",
       "      <th>4</th>\n",
       "      <td>32</td>\n",
       "      <td>0</td>\n",
       "      <td>28.880</td>\n",
       "      <td>0</td>\n",
       "      <td>1</td>\n",
       "      <td>3866.85520</td>\n",
       "      <td>0</td>\n",
       "      <td>1</td>\n",
       "      <td>0</td>\n",
       "      <td>0</td>\n",
       "    </tr>\n",
       "    <tr>\n",
       "      <th>...</th>\n",
       "      <td>...</td>\n",
       "      <td>...</td>\n",
       "      <td>...</td>\n",
       "      <td>...</td>\n",
       "      <td>...</td>\n",
       "      <td>...</td>\n",
       "      <td>...</td>\n",
       "      <td>...</td>\n",
       "      <td>...</td>\n",
       "      <td>...</td>\n",
       "    </tr>\n",
       "    <tr>\n",
       "      <th>1333</th>\n",
       "      <td>50</td>\n",
       "      <td>0</td>\n",
       "      <td>30.970</td>\n",
       "      <td>3</td>\n",
       "      <td>1</td>\n",
       "      <td>10600.54830</td>\n",
       "      <td>0</td>\n",
       "      <td>1</td>\n",
       "      <td>0</td>\n",
       "      <td>0</td>\n",
       "    </tr>\n",
       "    <tr>\n",
       "      <th>1334</th>\n",
       "      <td>18</td>\n",
       "      <td>1</td>\n",
       "      <td>31.920</td>\n",
       "      <td>0</td>\n",
       "      <td>1</td>\n",
       "      <td>2205.98080</td>\n",
       "      <td>1</td>\n",
       "      <td>0</td>\n",
       "      <td>0</td>\n",
       "      <td>0</td>\n",
       "    </tr>\n",
       "    <tr>\n",
       "      <th>1335</th>\n",
       "      <td>18</td>\n",
       "      <td>1</td>\n",
       "      <td>36.850</td>\n",
       "      <td>0</td>\n",
       "      <td>1</td>\n",
       "      <td>1629.83350</td>\n",
       "      <td>0</td>\n",
       "      <td>0</td>\n",
       "      <td>1</td>\n",
       "      <td>0</td>\n",
       "    </tr>\n",
       "    <tr>\n",
       "      <th>1336</th>\n",
       "      <td>21</td>\n",
       "      <td>1</td>\n",
       "      <td>25.800</td>\n",
       "      <td>0</td>\n",
       "      <td>1</td>\n",
       "      <td>2007.94500</td>\n",
       "      <td>0</td>\n",
       "      <td>0</td>\n",
       "      <td>0</td>\n",
       "      <td>1</td>\n",
       "    </tr>\n",
       "    <tr>\n",
       "      <th>1337</th>\n",
       "      <td>61</td>\n",
       "      <td>1</td>\n",
       "      <td>29.070</td>\n",
       "      <td>0</td>\n",
       "      <td>0</td>\n",
       "      <td>29141.36030</td>\n",
       "      <td>0</td>\n",
       "      <td>1</td>\n",
       "      <td>0</td>\n",
       "      <td>0</td>\n",
       "    </tr>\n",
       "  </tbody>\n",
       "</table>\n",
       "<p>1338 rows × 10 columns</p>\n",
       "</div>"
      ],
      "text/plain": [
       "      age  sex     bmi  children  smoker      charges  region_northeast  \\\n",
       "0      19    1  27.900         0       0  16884.92400                 0   \n",
       "1      18    0  33.770         1       1   1725.55230                 0   \n",
       "2      28    0  33.000         3       1   4449.46200                 0   \n",
       "3      33    0  22.705         0       1  21984.47061                 0   \n",
       "4      32    0  28.880         0       1   3866.85520                 0   \n",
       "...   ...  ...     ...       ...     ...          ...               ...   \n",
       "1333   50    0  30.970         3       1  10600.54830                 0   \n",
       "1334   18    1  31.920         0       1   2205.98080                 1   \n",
       "1335   18    1  36.850         0       1   1629.83350                 0   \n",
       "1336   21    1  25.800         0       1   2007.94500                 0   \n",
       "1337   61    1  29.070         0       0  29141.36030                 0   \n",
       "\n",
       "      region_northwest  region_southeast  region_southwest  \n",
       "0                    0                 0                 1  \n",
       "1                    0                 1                 0  \n",
       "2                    0                 1                 0  \n",
       "3                    1                 0                 0  \n",
       "4                    1                 0                 0  \n",
       "...                ...               ...               ...  \n",
       "1333                 1                 0                 0  \n",
       "1334                 0                 0                 0  \n",
       "1335                 0                 1                 0  \n",
       "1336                 0                 0                 1  \n",
       "1337                 1                 0                 0  \n",
       "\n",
       "[1338 rows x 10 columns]"
      ]
     },
     "execution_count": 22,
     "metadata": {},
     "output_type": "execute_result"
    }
   ],
   "source": [
    "df = pd.get_dummies(df,columns= ['region'])\n",
    "df"
   ]
  },
  {
   "cell_type": "code",
   "execution_count": 23,
   "id": "58351de4",
   "metadata": {},
   "outputs": [
    {
     "name": "stdout",
     "output_type": "stream",
     "text": [
      "<class 'pandas.core.series.Series'>\n",
      "RangeIndex: 1338 entries, 0 to 1337\n",
      "Series name: charges\n",
      "Non-Null Count  Dtype  \n",
      "--------------  -----  \n",
      "1338 non-null   float64\n",
      "dtypes: float64(1)\n",
      "memory usage: 10.6 KB\n"
     ]
    }
   ],
   "source": [
    "# 6. Charges \n",
    "df['charges'].info()"
   ]
  },
  {
   "cell_type": "code",
   "execution_count": 24,
   "id": "88a0d27d",
   "metadata": {
    "scrolled": true
   },
   "outputs": [
    {
     "data": {
      "text/plain": [
       "age                 0\n",
       "sex                 0\n",
       "bmi                 0\n",
       "children            0\n",
       "smoker              0\n",
       "charges             0\n",
       "region_northeast    0\n",
       "region_northwest    0\n",
       "region_southeast    0\n",
       "region_southwest    0\n",
       "dtype: int64"
      ]
     },
     "execution_count": 24,
     "metadata": {},
     "output_type": "execute_result"
    }
   ],
   "source": [
    "df.isna().sum()"
   ]
  },
  {
   "cell_type": "code",
   "execution_count": 25,
   "id": "ee53dd08",
   "metadata": {},
   "outputs": [
    {
     "name": "stdout",
     "output_type": "stream",
     "text": [
      "<class 'pandas.core.frame.DataFrame'>\n",
      "RangeIndex: 1338 entries, 0 to 1337\n",
      "Data columns (total 10 columns):\n",
      " #   Column            Non-Null Count  Dtype  \n",
      "---  ------            --------------  -----  \n",
      " 0   age               1338 non-null   int64  \n",
      " 1   sex               1338 non-null   int64  \n",
      " 2   bmi               1338 non-null   float64\n",
      " 3   children          1338 non-null   int64  \n",
      " 4   smoker            1338 non-null   int64  \n",
      " 5   charges           1338 non-null   float64\n",
      " 6   region_northeast  1338 non-null   uint8  \n",
      " 7   region_northwest  1338 non-null   uint8  \n",
      " 8   region_southeast  1338 non-null   uint8  \n",
      " 9   region_southwest  1338 non-null   uint8  \n",
      "dtypes: float64(2), int64(4), uint8(4)\n",
      "memory usage: 68.1 KB\n"
     ]
    }
   ],
   "source": [
    "df.info()"
   ]
  },
  {
   "cell_type": "markdown",
   "id": "e86f349d",
   "metadata": {},
   "source": [
    "# Feature engineering "
   ]
  },
  {
   "cell_type": "code",
   "execution_count": null,
   "id": "570b108b",
   "metadata": {},
   "outputs": [],
   "source": []
  },
  {
   "cell_type": "markdown",
   "id": "743f8abd",
   "metadata": {},
   "source": [
    "# Feature scaling "
   ]
  },
  {
   "cell_type": "code",
   "execution_count": 26,
   "id": "61862d04",
   "metadata": {},
   "outputs": [],
   "source": [
    "# linearity "
   ]
  },
  {
   "cell_type": "code",
   "execution_count": 27,
   "id": "c73d5333",
   "metadata": {},
   "outputs": [
    {
     "data": {
      "text/html": [
       "<div>\n",
       "<style scoped>\n",
       "    .dataframe tbody tr th:only-of-type {\n",
       "        vertical-align: middle;\n",
       "    }\n",
       "\n",
       "    .dataframe tbody tr th {\n",
       "        vertical-align: top;\n",
       "    }\n",
       "\n",
       "    .dataframe thead th {\n",
       "        text-align: right;\n",
       "    }\n",
       "</style>\n",
       "<table border=\"1\" class=\"dataframe\">\n",
       "  <thead>\n",
       "    <tr style=\"text-align: right;\">\n",
       "      <th></th>\n",
       "      <th>age</th>\n",
       "      <th>sex</th>\n",
       "      <th>bmi</th>\n",
       "      <th>children</th>\n",
       "      <th>smoker</th>\n",
       "      <th>charges</th>\n",
       "      <th>region_northeast</th>\n",
       "      <th>region_northwest</th>\n",
       "      <th>region_southeast</th>\n",
       "      <th>region_southwest</th>\n",
       "    </tr>\n",
       "  </thead>\n",
       "  <tbody>\n",
       "    <tr>\n",
       "      <th>age</th>\n",
       "      <td>1.000000</td>\n",
       "      <td>0.020856</td>\n",
       "      <td>0.109272</td>\n",
       "      <td>0.042469</td>\n",
       "      <td>0.025019</td>\n",
       "      <td>0.299008</td>\n",
       "      <td>0.002475</td>\n",
       "      <td>-0.000407</td>\n",
       "      <td>-0.011642</td>\n",
       "      <td>0.010016</td>\n",
       "    </tr>\n",
       "    <tr>\n",
       "      <th>sex</th>\n",
       "      <td>0.020856</td>\n",
       "      <td>1.000000</td>\n",
       "      <td>-0.046371</td>\n",
       "      <td>-0.017163</td>\n",
       "      <td>0.076185</td>\n",
       "      <td>-0.057292</td>\n",
       "      <td>0.002425</td>\n",
       "      <td>0.011156</td>\n",
       "      <td>-0.017117</td>\n",
       "      <td>0.004184</td>\n",
       "    </tr>\n",
       "    <tr>\n",
       "      <th>bmi</th>\n",
       "      <td>0.109272</td>\n",
       "      <td>-0.046371</td>\n",
       "      <td>1.000000</td>\n",
       "      <td>0.012759</td>\n",
       "      <td>-0.003750</td>\n",
       "      <td>0.198341</td>\n",
       "      <td>-0.138156</td>\n",
       "      <td>-0.135996</td>\n",
       "      <td>0.270025</td>\n",
       "      <td>-0.006205</td>\n",
       "    </tr>\n",
       "    <tr>\n",
       "      <th>children</th>\n",
       "      <td>0.042469</td>\n",
       "      <td>-0.017163</td>\n",
       "      <td>0.012759</td>\n",
       "      <td>1.000000</td>\n",
       "      <td>-0.007673</td>\n",
       "      <td>0.067998</td>\n",
       "      <td>-0.022808</td>\n",
       "      <td>0.024806</td>\n",
       "      <td>-0.023066</td>\n",
       "      <td>0.021914</td>\n",
       "    </tr>\n",
       "    <tr>\n",
       "      <th>smoker</th>\n",
       "      <td>0.025019</td>\n",
       "      <td>0.076185</td>\n",
       "      <td>-0.003750</td>\n",
       "      <td>-0.007673</td>\n",
       "      <td>1.000000</td>\n",
       "      <td>-0.787251</td>\n",
       "      <td>-0.002811</td>\n",
       "      <td>0.036945</td>\n",
       "      <td>-0.068498</td>\n",
       "      <td>0.036945</td>\n",
       "    </tr>\n",
       "    <tr>\n",
       "      <th>charges</th>\n",
       "      <td>0.299008</td>\n",
       "      <td>-0.057292</td>\n",
       "      <td>0.198341</td>\n",
       "      <td>0.067998</td>\n",
       "      <td>-0.787251</td>\n",
       "      <td>1.000000</td>\n",
       "      <td>0.006349</td>\n",
       "      <td>-0.039905</td>\n",
       "      <td>0.073982</td>\n",
       "      <td>-0.043210</td>\n",
       "    </tr>\n",
       "    <tr>\n",
       "      <th>region_northeast</th>\n",
       "      <td>0.002475</td>\n",
       "      <td>0.002425</td>\n",
       "      <td>-0.138156</td>\n",
       "      <td>-0.022808</td>\n",
       "      <td>-0.002811</td>\n",
       "      <td>0.006349</td>\n",
       "      <td>1.000000</td>\n",
       "      <td>-0.320177</td>\n",
       "      <td>-0.345561</td>\n",
       "      <td>-0.320177</td>\n",
       "    </tr>\n",
       "    <tr>\n",
       "      <th>region_northwest</th>\n",
       "      <td>-0.000407</td>\n",
       "      <td>0.011156</td>\n",
       "      <td>-0.135996</td>\n",
       "      <td>0.024806</td>\n",
       "      <td>0.036945</td>\n",
       "      <td>-0.039905</td>\n",
       "      <td>-0.320177</td>\n",
       "      <td>1.000000</td>\n",
       "      <td>-0.346265</td>\n",
       "      <td>-0.320829</td>\n",
       "    </tr>\n",
       "    <tr>\n",
       "      <th>region_southeast</th>\n",
       "      <td>-0.011642</td>\n",
       "      <td>-0.017117</td>\n",
       "      <td>0.270025</td>\n",
       "      <td>-0.023066</td>\n",
       "      <td>-0.068498</td>\n",
       "      <td>0.073982</td>\n",
       "      <td>-0.345561</td>\n",
       "      <td>-0.346265</td>\n",
       "      <td>1.000000</td>\n",
       "      <td>-0.346265</td>\n",
       "    </tr>\n",
       "    <tr>\n",
       "      <th>region_southwest</th>\n",
       "      <td>0.010016</td>\n",
       "      <td>0.004184</td>\n",
       "      <td>-0.006205</td>\n",
       "      <td>0.021914</td>\n",
       "      <td>0.036945</td>\n",
       "      <td>-0.043210</td>\n",
       "      <td>-0.320177</td>\n",
       "      <td>-0.320829</td>\n",
       "      <td>-0.346265</td>\n",
       "      <td>1.000000</td>\n",
       "    </tr>\n",
       "  </tbody>\n",
       "</table>\n",
       "</div>"
      ],
      "text/plain": [
       "                       age       sex       bmi  children    smoker   charges  \\\n",
       "age               1.000000  0.020856  0.109272  0.042469  0.025019  0.299008   \n",
       "sex               0.020856  1.000000 -0.046371 -0.017163  0.076185 -0.057292   \n",
       "bmi               0.109272 -0.046371  1.000000  0.012759 -0.003750  0.198341   \n",
       "children          0.042469 -0.017163  0.012759  1.000000 -0.007673  0.067998   \n",
       "smoker            0.025019  0.076185 -0.003750 -0.007673  1.000000 -0.787251   \n",
       "charges           0.299008 -0.057292  0.198341  0.067998 -0.787251  1.000000   \n",
       "region_northeast  0.002475  0.002425 -0.138156 -0.022808 -0.002811  0.006349   \n",
       "region_northwest -0.000407  0.011156 -0.135996  0.024806  0.036945 -0.039905   \n",
       "region_southeast -0.011642 -0.017117  0.270025 -0.023066 -0.068498  0.073982   \n",
       "region_southwest  0.010016  0.004184 -0.006205  0.021914  0.036945 -0.043210   \n",
       "\n",
       "                  region_northeast  region_northwest  region_southeast  \\\n",
       "age                       0.002475         -0.000407         -0.011642   \n",
       "sex                       0.002425          0.011156         -0.017117   \n",
       "bmi                      -0.138156         -0.135996          0.270025   \n",
       "children                 -0.022808          0.024806         -0.023066   \n",
       "smoker                   -0.002811          0.036945         -0.068498   \n",
       "charges                   0.006349         -0.039905          0.073982   \n",
       "region_northeast          1.000000         -0.320177         -0.345561   \n",
       "region_northwest         -0.320177          1.000000         -0.346265   \n",
       "region_southeast         -0.345561         -0.346265          1.000000   \n",
       "region_southwest         -0.320177         -0.320829         -0.346265   \n",
       "\n",
       "                  region_southwest  \n",
       "age                       0.010016  \n",
       "sex                       0.004184  \n",
       "bmi                      -0.006205  \n",
       "children                  0.021914  \n",
       "smoker                    0.036945  \n",
       "charges                  -0.043210  \n",
       "region_northeast         -0.320177  \n",
       "region_northwest         -0.320829  \n",
       "region_southeast         -0.346265  \n",
       "region_southwest          1.000000  "
      ]
     },
     "execution_count": 27,
     "metadata": {},
     "output_type": "execute_result"
    }
   ],
   "source": [
    "df.corr()"
   ]
  },
  {
   "cell_type": "code",
   "execution_count": 28,
   "id": "04147eeb",
   "metadata": {},
   "outputs": [
    {
     "data": {
      "text/plain": [
       "<AxesSubplot:>"
      ]
     },
     "execution_count": 28,
     "metadata": {},
     "output_type": "execute_result"
    },
    {
     "data": {
      "image/png": "[encoded data removed]",
      "text/plain": [
       "<Figure size 432x288 with 2 Axes>"
      ]
     },
     "metadata": {
      "needs_background": "light"
     },
     "output_type": "display_data"
    }
   ],
   "source": [
    "sns.heatmap(df.corr())"
   ]
  },
  {
   "cell_type": "code",
   "execution_count": 29,
   "id": "feab794e",
   "metadata": {},
   "outputs": [],
   "source": [
    "# No Multicolinearity"
   ]
  },
  {
   "cell_type": "markdown",
   "id": "a552f306",
   "metadata": {},
   "source": [
    "# Train Test split"
   ]
  },
  {
   "cell_type": "code",
   "execution_count": 30,
   "id": "b87d2fcf",
   "metadata": {},
   "outputs": [],
   "source": [
    "df = df.select_dtypes(exclude=object)"
   ]
  },
  {
   "cell_type": "code",
   "execution_count": 31,
   "id": "b7ded478",
   "metadata": {},
   "outputs": [],
   "source": [
    "x = df.drop(['charges'],axis = 1)\n",
    "y = df['charges']"
   ]
  },
  {
   "cell_type": "code",
   "execution_count": 32,
   "id": "3c77233b",
   "metadata": {},
   "outputs": [],
   "source": [
    "x_train,x_test,y_train,y_test = train_test_split(x,y,test_size=0.2,random_state=15)"
   ]
  },
  {
   "cell_type": "code",
   "execution_count": 33,
   "id": "06498237",
   "metadata": {},
   "outputs": [
    {
     "data": {
      "text/plain": [
       "(1070, 9)"
      ]
     },
     "execution_count": 33,
     "metadata": {},
     "output_type": "execute_result"
    }
   ],
   "source": [
    "x_train.shape"
   ]
  },
  {
   "cell_type": "markdown",
   "id": "35b52e16",
   "metadata": {},
   "source": [
    "# Model Training "
   ]
  },
  {
   "cell_type": "code",
   "execution_count": 34,
   "id": "6f210ea8",
   "metadata": {},
   "outputs": [
    {
     "data": {
      "text/plain": [
       "LinearRegression()"
      ]
     },
     "execution_count": 34,
     "metadata": {},
     "output_type": "execute_result"
    }
   ],
   "source": [
    "linear_reg_model = LinearRegression()\n",
    "linear_reg_model.fit(x_train,y_train)"
   ]
  },
  {
   "cell_type": "markdown",
   "id": "3e011451",
   "metadata": {},
   "source": [
    "# Model Evaluation "
   ]
  },
  {
   "cell_type": "code",
   "execution_count": 35,
   "id": "1d3a8094",
   "metadata": {},
   "outputs": [
    {
     "name": "stdout",
     "output_type": "stream",
     "text": [
      "mse : 29856696.55268465\n",
      "rmse : 5464.128160345862\n",
      "mae : 3928.547809435483\n",
      "R Squared : 0.7709928565663489\n"
     ]
    }
   ],
   "source": [
    "# Testing Dataset\n",
    "y_pred = linear_reg_model.predict(x_test)\n",
    "\n",
    "mse = mean_squared_error(y_test, y_pred)\n",
    "print(\"mse :\",mse)\n",
    "\n",
    "rmse = np.sqrt(mse)\n",
    "print(\"rmse :\",rmse)\n",
    "\n",
    "mae = mean_absolute_error(y_test, y_pred)\n",
    "print(\"mae :\",mae)\n",
    "\n",
    "r2 = r2_score(y_test, y_pred)\n",
    "print(\"R Squared :\",r2)"
   ]
  },
  {
   "cell_type": "code",
   "execution_count": 36,
   "id": "d796d84d",
   "metadata": {},
   "outputs": [
    {
     "name": "stdout",
     "output_type": "stream",
     "text": [
      "mse : 38229843.15836375\n",
      "rmse : 6183.028639620211\n",
      "mae : 4272.999226082078\n",
      "R Squared : 0.7455479937467264\n"
     ]
    }
   ],
   "source": [
    "# Training Dataset\n",
    "y_pred_train = linear_reg_model.predict(x_train)\n",
    "\n",
    "mse = mean_squared_error(y_train, y_pred_train)\n",
    "print(\"mse :\",mse)\n",
    "\n",
    "rmse = np.sqrt(mse)\n",
    "print(\"rmse :\",rmse)\n",
    "\n",
    "mae = mean_absolute_error(y_train, y_pred_train)\n",
    "print(\"mae :\",mae)\n",
    "\n",
    "r2 = r2_score(y_train, y_pred_train)\n",
    "print(\"R Squared :\",r2)"
   ]
  },
  {
   "cell_type": "markdown",
   "id": "da5953fc",
   "metadata": {},
   "source": [
    "# Testig on single row ----> input from user"
   ]
  },
  {
   "cell_type": "code",
   "execution_count": 39,
   "id": "4ba29530",
   "metadata": {},
   "outputs": [
    {
     "data": {
      "text/plain": [
       "9"
      ]
     },
     "execution_count": 39,
     "metadata": {},
     "output_type": "execute_result"
    }
   ],
   "source": [
    "column_names = x.columns\n",
    "len(column_names)"
   ]
  },
  {
   "cell_type": "code",
   "execution_count": 40,
   "id": "d6b39f1b",
   "metadata": {},
   "outputs": [
    {
     "data": {
      "text/plain": [
       "Index(['age', 'sex', 'bmi', 'children', 'smoker', 'region_northeast',\n",
       "       'region_northwest', 'region_southeast', 'region_southwest'],\n",
       "      dtype='object')"
      ]
     },
     "execution_count": 40,
     "metadata": {},
     "output_type": "execute_result"
    }
   ],
   "source": [
    "column_names"
   ]
  },
  {
   "cell_type": "code",
   "execution_count": 42,
   "id": "c667daaa",
   "metadata": {},
   "outputs": [
    {
     "data": {
      "text/html": [
       "<div>\n",
       "<style scoped>\n",
       "    .dataframe tbody tr th:only-of-type {\n",
       "        vertical-align: middle;\n",
       "    }\n",
       "\n",
       "    .dataframe tbody tr th {\n",
       "        vertical-align: top;\n",
       "    }\n",
       "\n",
       "    .dataframe thead th {\n",
       "        text-align: right;\n",
       "    }\n",
       "</style>\n",
       "<table border=\"1\" class=\"dataframe\">\n",
       "  <thead>\n",
       "    <tr style=\"text-align: right;\">\n",
       "      <th></th>\n",
       "      <th>0</th>\n",
       "    </tr>\n",
       "  </thead>\n",
       "  <tbody>\n",
       "    <tr>\n",
       "      <th>age</th>\n",
       "      <td>19.0</td>\n",
       "    </tr>\n",
       "    <tr>\n",
       "      <th>sex</th>\n",
       "      <td>1.0</td>\n",
       "    </tr>\n",
       "    <tr>\n",
       "      <th>bmi</th>\n",
       "      <td>27.9</td>\n",
       "    </tr>\n",
       "    <tr>\n",
       "      <th>children</th>\n",
       "      <td>0.0</td>\n",
       "    </tr>\n",
       "    <tr>\n",
       "      <th>smoker</th>\n",
       "      <td>0.0</td>\n",
       "    </tr>\n",
       "    <tr>\n",
       "      <th>region_northeast</th>\n",
       "      <td>0.0</td>\n",
       "    </tr>\n",
       "    <tr>\n",
       "      <th>region_northwest</th>\n",
       "      <td>0.0</td>\n",
       "    </tr>\n",
       "    <tr>\n",
       "      <th>region_southeast</th>\n",
       "      <td>0.0</td>\n",
       "    </tr>\n",
       "    <tr>\n",
       "      <th>region_southwest</th>\n",
       "      <td>1.0</td>\n",
       "    </tr>\n",
       "  </tbody>\n",
       "</table>\n",
       "</div>"
      ],
      "text/plain": [
       "                     0\n",
       "age               19.0\n",
       "sex                1.0\n",
       "bmi               27.9\n",
       "children           0.0\n",
       "smoker             0.0\n",
       "region_northeast   0.0\n",
       "region_northwest   0.0\n",
       "region_southeast   0.0\n",
       "region_southwest   1.0"
      ]
     },
     "execution_count": 42,
     "metadata": {},
     "output_type": "execute_result"
    }
   ],
   "source": [
    "x.head(1).T"
   ]
  },
  {
   "cell_type": "code",
   "execution_count": 61,
   "id": "ea3819c0",
   "metadata": {},
   "outputs": [],
   "source": [
    "# input from user \n",
    "age = 60\n",
    "sex =  'male'\n",
    "bmi = 22\n",
    "children = 2\n",
    "smoker = 'yes'\n",
    "region = 'southeast'"
   ]
  },
  {
   "cell_type": "code",
   "execution_count": 62,
   "id": "888ad672",
   "metadata": {},
   "outputs": [
    {
     "name": "stdout",
     "output_type": "stream",
     "text": [
      "{'male': 0, 'female': 1}\n",
      "{'yes': 0, 'no': 1}\n",
      "Index(['age', 'sex', 'bmi', 'children', 'smoker', 'region_northeast',\n",
      "       'region_northwest', 'region_southeast', 'region_southwest'],\n",
      "      dtype='object')\n"
     ]
    }
   ],
   "source": [
    "print(sex_value)\n",
    "print(smoker_value)\n",
    "print(column_names)"
   ]
  },
  {
   "cell_type": "code",
   "execution_count": 63,
   "id": "1a6a1544",
   "metadata": {},
   "outputs": [
    {
     "data": {
      "text/plain": [
       "{'sex': {'male': 0, 'female': 1},\n",
       " 'smoker': {'yes': 0, 'no': 1},\n",
       " 'columns': ['age',\n",
       "  'sex',\n",
       "  'bmi',\n",
       "  'children',\n",
       "  'smoker',\n",
       "  'region_northeast',\n",
       "  'region_northwest',\n",
       "  'region_southeast',\n",
       "  'region_southwest']}"
      ]
     },
     "execution_count": 63,
     "metadata": {},
     "output_type": "execute_result"
    }
   ],
   "source": [
    "json_data = {'sex':sex_value,'smoker':smoker_value,'columns':list(column_names)}\n",
    "json_data"
   ]
  },
  {
   "cell_type": "code",
   "execution_count": 64,
   "id": "35d83b07",
   "metadata": {},
   "outputs": [
    {
     "data": {
      "text/plain": [
       "'region_southeast'"
      ]
     },
     "execution_count": 64,
     "metadata": {},
     "output_type": "execute_result"
    }
   ],
   "source": [
    "# columns\n",
    "region ='region_'+region\n",
    "region"
   ]
  },
  {
   "cell_type": "code",
   "execution_count": 65,
   "id": "23081e6c",
   "metadata": {},
   "outputs": [
    {
     "data": {
      "text/plain": [
       "7"
      ]
     },
     "execution_count": 65,
     "metadata": {},
     "output_type": "execute_result"
    }
   ],
   "source": [
    "region_index = np.where(column_names == region)[0][0]\n",
    "region_index"
   ]
  },
  {
   "cell_type": "code",
   "execution_count": 66,
   "id": "a5ab3821",
   "metadata": {},
   "outputs": [
    {
     "data": {
      "text/plain": [
       "array([0, 0, 0, 0, 0, 0, 0, 0, 0])"
      ]
     },
     "execution_count": 66,
     "metadata": {},
     "output_type": "execute_result"
    }
   ],
   "source": [
    "array = np.zeros(x.shape[1],dtype=int)\n",
    "array"
   ]
  },
  {
   "cell_type": "code",
   "execution_count": 67,
   "id": "6cdfbb75",
   "metadata": {},
   "outputs": [
    {
     "name": "stdout",
     "output_type": "stream",
     "text": [
      "[60  0 22  2  0  0  0  1  0]\n"
     ]
    }
   ],
   "source": [
    "array[0] = age \n",
    "array[1] = json_data['sex'][sex]\n",
    "array[2] = bmi\n",
    "array[3] = children\n",
    "array[4] = json_data['smoker'][smoker]\n",
    "array[region_index] = 1\n",
    "print(array)"
   ]
  },
  {
   "cell_type": "code",
   "execution_count": 68,
   "id": "27eddf9a",
   "metadata": {},
   "outputs": [
    {
     "data": {
      "text/plain": [
       "34992.16897442552"
      ]
     },
     "execution_count": 68,
     "metadata": {},
     "output_type": "execute_result"
    }
   ],
   "source": [
    "predict_charges = linear_reg_model.predict([array])[0]\n",
    "predict_charges"
   ]
  },
  {
   "cell_type": "code",
   "execution_count": 60,
   "id": "9004e8b1",
   "metadata": {},
   "outputs": [],
   "source": [
    "import pickle\n",
    "\n",
    "with open(\"linear_model.pkl\", \"wb\") as f:\n",
    "    pickle.dump(linear_reg_model, f)"
   ]
  },
  {
   "cell_type": "code",
   "execution_count": 69,
   "id": "7ef101a5",
   "metadata": {},
   "outputs": [],
   "source": [
    "import json\n",
    "\n",
    "with open(\"project_data.json\",'w') as f:\n",
    "    json.dump(json_data,f)"
   ]
  }
 ],
 "metadata": {
  "kernelspec": {
   "display_name": "Python 3 (ipykernel)",
   "language": "python",
   "name": "python3"
  },
  "language_info": {
   "codemirror_mode": {
    "name": "ipython",
    "version": 3
   },
   "file_extension": ".py",
   "mimetype": "text/x-python",
   "name": "python",
   "nbconvert_exporter": "python",
   "pygments_lexer": "ipython3",
   "version": "3.10.6"
  }
 },
 "nbformat": 4,
 "nbformat_minor": 5
}
